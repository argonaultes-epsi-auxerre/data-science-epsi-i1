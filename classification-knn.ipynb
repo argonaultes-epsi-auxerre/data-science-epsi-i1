{
 "cells": [
  {
   "cell_type": "code",
   "execution_count": null,
   "id": "091628e7",
   "metadata": {},
   "outputs": [],
   "source": [
    "import numpy as np\n",
    "import matplotlib.pyplot as plt\n",
    "from sklearn.datasets import load_digits\n",
    "from sklearn.neighbors import KNeighborsClassifier"
   ]
  },
  {
   "cell_type": "code",
   "execution_count": null,
   "id": "1a1f0390",
   "metadata": {},
   "outputs": [],
   "source": [
    "# importons une base de données de chiffre\n",
    "digits = load_digits()\n",
    "# regarder l'attribut data\n",
    "\n",
    "# regarder l'attribut target\n",
    "\n",
    "\n",
    "# quelle est la dimension de X ?\n"
   ]
  },
  {
   "cell_type": "code",
   "execution_count": null,
   "id": "9be7d8d3",
   "metadata": {},
   "outputs": [],
   "source": [
    "# visualisons un de ces chiffres\n",
    "# pour afficher une image, utiliser plt.imshow\n",
    "plt.imshow(..., cmap = 'Greys_r')\n",
    "# Entraînement du modèle KNeighborsClassifier \n"
   ]
  },
  {
   "cell_type": "code",
   "execution_count": null,
   "id": "972be1b4",
   "metadata": {},
   "outputs": [],
   "source": [
    "#Test du modele\n",
    "# effecture une transformation sur l'image reshape(1, -1)\n",
    "test = ...\n",
    "# afficher l'image\n",
    "plt.imshow(..., cmap = 'Greys_r')\n",
    "# faire deviner le chiffre\n"
   ]
  }
 ],
 "metadata": {
  "kernelspec": {
   "display_name": "Python 3 (ipykernel)",
   "language": "python",
   "name": "python3"
  },
  "language_info": {
   "codemirror_mode": {
    "name": "ipython",
    "version": 3
   },
   "file_extension": ".py",
   "mimetype": "text/x-python",
   "name": "python",
   "nbconvert_exporter": "python",
   "pygments_lexer": "ipython3",
   "version": "3.10.9"
  }
 },
 "nbformat": 4,
 "nbformat_minor": 5
}
