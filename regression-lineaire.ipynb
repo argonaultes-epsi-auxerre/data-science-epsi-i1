{
 "cells": [
  {
   "cell_type": "markdown",
   "id": "ed849840",
   "metadata": {},
   "source": [
    "# Plan\n",
    "0. Import des bibliothèques\n",
    "1. Création du jeu de données\n",
    "2. Définition du modèle : fonction linéaire\n",
    "3. Définition des paramètres et de la fonction coût\n",
    "4. Apprentissage de l'algorithme pour minimiser la fonction coût et optimiser les paramètres a et b du modèle\n",
    "\n",
    "5. Extension à une fonction non linéaire\n",
    "6. Augmentation du nombre de caractéristiques (feature)\n",
    "7. Utilisation de Scikit Learn pour remplacer notre propre modèle"
   ]
  },
  {
   "cell_type": "code",
   "execution_count": null,
   "id": "8d745e9b",
   "metadata": {},
   "outputs": [],
   "source": [
    "# Import of required libs\n",
    "import numpy as np\n",
    "from sklearn.datasets import make_regression\n",
    "import matplotlib.pyplot as pyplot"
   ]
  },
  {
   "cell_type": "code",
   "execution_count": null,
   "id": "f47ad1bd",
   "metadata": {},
   "outputs": [],
   "source": [
    "# Generate some sample data with some noise\n",
    "x, y = make_regression(n_samples=100, n_features=1, noise=20, n_targets=1)"
   ]
  },
  {
   "cell_type": "code",
   "execution_count": null,
   "id": "a4719a44",
   "metadata": {},
   "outputs": [],
   "source": [
    "# Display the chart thanks to pyplot function in matplotlib\n"
   ]
  },
  {
   "cell_type": "code",
   "execution_count": null,
   "id": "5e5fd2b8",
   "metadata": {},
   "outputs": [],
   "source": [
    "# vérifier les dimensions des matrices\n"
   ]
  },
  {
   "cell_type": "code",
   "execution_count": null,
   "id": "575cdeed",
   "metadata": {
    "scrolled": true
   },
   "outputs": [],
   "source": []
  },
  {
   "cell_type": "code",
   "execution_count": null,
   "id": "d54e69fe",
   "metadata": {
    "scrolled": true
   },
   "outputs": [],
   "source": [
    "# transformer la matrice y\n",
    "y = y.reshape(y.shape[0],1)\n",
    "print(f'x.shape={x.shape} y.shape={y.shape}')\n"
   ]
  },
  {
   "cell_type": "code",
   "execution_count": null,
   "id": "4770d7fc",
   "metadata": {},
   "outputs": [],
   "source": [
    "# générer aléatoirement un vecteur de 2 éléments appelé theta\n"
   ]
  },
  {
   "cell_type": "code",
   "execution_count": null,
   "id": "6624660c",
   "metadata": {
    "scrolled": true
   },
   "outputs": [],
   "source": [
    "# Préparation du vecteur x\n",
    "# compléter le x par des 1 pour obtenir une matrice X\n"
   ]
  },
  {
   "cell_type": "markdown",
   "id": "f55ce3a6",
   "metadata": {},
   "source": [
    "# Modèle"
   ]
  },
  {
   "cell_type": "code",
   "execution_count": null,
   "id": "d86ce28f",
   "metadata": {},
   "outputs": [],
   "source": [
    "# le modèle linéaire : f(x) = a * x + b\n",
    "\n",
    "def model(x, theta):\n",
    "    pass"
   ]
  },
  {
   "cell_type": "code",
   "execution_count": null,
   "id": "0495ab70",
   "metadata": {},
   "outputs": [],
   "source": [
    "# calculer le résultat et afficher les valeurs du jeu de données\n",
    "\n",
    "# afficher le résultat du modèle sur le graphique\n"
   ]
  },
  {
   "cell_type": "markdown",
   "id": "92ee42ef",
   "metadata": {},
   "source": [
    "# Coût / Erreur"
   ]
  },
  {
   "cell_type": "code",
   "execution_count": null,
   "id": "49b20d61",
   "metadata": {},
   "outputs": [],
   "source": [
    "# calculer la fonction coût d'après la formule J(a,b) = 1/(2m) * Sum(f(x_i) - y_i)²\n",
    "def cost(x, y, theta):\n",
    "    pass"
   ]
  },
  {
   "cell_type": "code",
   "execution_count": null,
   "id": "c9b7a99e",
   "metadata": {},
   "outputs": [],
   "source": [
    "# utiliser la fonction coût"
   ]
  },
  {
   "cell_type": "markdown",
   "id": "00b1509e",
   "metadata": {},
   "source": [
    "# Descente de gradient"
   ]
  },
  {
   "cell_type": "code",
   "execution_count": null,
   "id": "2412f375",
   "metadata": {},
   "outputs": [],
   "source": [
    "# calculer la dérivée\n",
    "# formule à utiliser : X^T . (F(x) - Y)\n",
    "def gradient(x, y, theta):\n",
    "    pass\n"
   ]
  },
  {
   "cell_type": "code",
   "execution_count": null,
   "id": "f7a3d6e5",
   "metadata": {},
   "outputs": [],
   "source": [
    "def gradient_descent(x, y, theta, learning_rate, n_iter):\n",
    "    for _ in range(n_iter):\n",
    "        pass\n"
   ]
  },
  {
   "cell_type": "markdown",
   "id": "438ca3f4",
   "metadata": {},
   "source": [
    "# Entrainement"
   ]
  },
  {
   "cell_type": "code",
   "execution_count": null,
   "id": "e406e598",
   "metadata": {
    "scrolled": true
   },
   "outputs": [],
   "source": [
    "np.delete(X, 1, 1)"
   ]
  },
  {
   "cell_type": "code",
   "execution_count": null,
   "id": "bc8e739c",
   "metadata": {
    "scrolled": true
   },
   "outputs": [],
   "source": [
    "pyplot.scatter(x, y, color = 'b')\n",
    "theta = np.random.randn(2,1)\n",
    "theta_final = gradient_descent(X, y, theta, 0.1, 50)\n"
   ]
  },
  {
   "cell_type": "code",
   "execution_count": null,
   "id": "3f76c048",
   "metadata": {},
   "outputs": [],
   "source": [
    "# afficher les données brutes du jeu de données\n",
    "pyplot.scatter(x, y)\n",
    "# afficher le résultat du modèle initial\n",
    "pyplot.plot(x, model(X, theta), color = 'red')\n",
    "# afficher le résultat du modèle entrainé\n",
    "pyplot.plot(x, model(X, theta_final), color = 'green')\n"
   ]
  },
  {
   "cell_type": "markdown",
   "id": "f74eacac",
   "metadata": {},
   "source": [
    "# Scikit Learn\n",
    "Utiliser maintenant un modèle de Scikit Learn : LinearRegression"
   ]
  }
 ],
 "metadata": {
  "kernelspec": {
   "display_name": "Python 3 (ipykernel)",
   "language": "python",
   "name": "python3"
  },
  "language_info": {
   "codemirror_mode": {
    "name": "ipython",
    "version": 3
   },
   "file_extension": ".py",
   "mimetype": "text/x-python",
   "name": "python",
   "nbconvert_exporter": "python",
   "pygments_lexer": "ipython3",
   "version": "3.11.5"
  }
 },
 "nbformat": 4,
 "nbformat_minor": 5
}
