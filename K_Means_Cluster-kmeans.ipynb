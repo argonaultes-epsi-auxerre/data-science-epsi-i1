{
 "cells": [
  {
   "cell_type": "markdown",
   "metadata": {
    "id": "2P9TIr-Un81_"
   },
   "source": [
    "La méthode de clustering des k-means est une méthode dite non-supervisée. Cela signifie que nous ne conaissons pas le résultat attendu et donc il n'est pas possible d'entraîner notre modèle en fonction d'un résultat attendu."
   ]
  },
  {
   "cell_type": "markdown",
   "metadata": {
    "id": "zEuX8AEnoUcF"
   },
   "source": [
    "Le clustering est un moyen de regrouper différents points dans un même ensemble en considérant un centre (ou plutôt appelé centroïde) dont les points sont les plus proches possibles."
   ]
  },
  {
   "cell_type": "markdown",
   "metadata": {
    "id": "pGAhgQrNpF_W"
   },
   "source": [
    "Certains modules ne sont pas présents par défaut, notamment le module kneed qu'il faut installer grâce au gestionnaire de paquets python pip."
   ]
  },
  {
   "cell_type": "code",
   "execution_count": null,
   "metadata": {
    "colab": {
     "base_uri": "https://localhost:8080/"
    },
    "id": "Byxxjpm4o9yf",
    "outputId": "b60828ef-b7e8-4df7-932d-d90e038f4969"
   },
   "outputs": [],
   "source": [
    "!pip install kneed"
   ]
  },
  {
   "cell_type": "markdown",
   "metadata": {
    "id": "qAgRaGXepPL6"
   },
   "source": [
    "voici les différents imports nécessaires"
   ]
  },
  {
   "cell_type": "code",
   "execution_count": null,
   "metadata": {
    "id": "w3rLzeTbmj6W"
   },
   "outputs": [],
   "source": [
    "import matplotlib.pyplot as plt\n",
    "from kneed import KneeLocator\n",
    "from sklearn.datasets import make_blobs\n",
    "from sklearn.cluster import KMeans\n",
    "from sklearn.metrics import silhouette_score\n",
    "from sklearn.preprocessing import StandardScaler"
   ]
  },
  {
   "cell_type": "markdown",
   "metadata": {
    "id": "n89XblEYpUGO"
   },
   "source": [
    "Nous commeçons par générer un jeu de données complètement factice grâce à la méthode `make_blobs`"
   ]
  },
  {
   "cell_type": "code",
   "execution_count": null,
   "metadata": {
    "id": "JOELMkZupUZ8"
   },
   "outputs": [],
   "source": [
    "features, true_labels = make_blobs(\n",
    "    n_samples=200,\n",
    "    centers=3,\n",
    "    cluster_std=2.75,\n",
    "    random_state=42\n",
    ")"
   ]
  },
  {
   "cell_type": "markdown",
   "metadata": {
    "id": "pGldm294qASa"
   },
   "source": [
    "Afficher les 10 premiers éléments des caractéristiques (features)"
   ]
  },
  {
   "cell_type": "code",
   "execution_count": null,
   "metadata": {
    "id": "8eqi7uECqFmY"
   },
   "outputs": [],
   "source": [
    "print('FIXME')"
   ]
  },
  {
   "cell_type": "markdown",
   "metadata": {
    "id": "EBeTB-4GqIlS"
   },
   "source": [
    "Afficher les 10 premiers éléments des résultats (labels)"
   ]
  },
  {
   "cell_type": "code",
   "execution_count": null,
   "metadata": {
    "id": "OS6Dh_BqqSbp"
   },
   "outputs": [],
   "source": [
    "print('FIXME')"
   ]
  },
  {
   "cell_type": "markdown",
   "metadata": {
    "id": "5KrZ8EfUpvz5"
   },
   "source": [
    "Comme tous les problèmes de Machine Learning, avant de commencer à modéliser notre problème, nos différentes caractéristiques doivent être à la même échelle, il faut donc les normaliser."
   ]
  },
  {
   "cell_type": "code",
   "execution_count": null,
   "metadata": {
    "id": "F2A3nSNkp5pZ"
   },
   "outputs": [],
   "source": [
    "scaler = StandardScaler()\n",
    "scaled_features = scaler.fit_transform(features)"
   ]
  },
  {
   "cell_type": "markdown",
   "metadata": {
    "id": "HnzgeN1zqXCR"
   },
   "source": [
    "Il existe plein d'autres méthodes de normalisation. Faites une recherche pour trouver comment utiliser la méthode du MinMax en respectant la même méthode d'application que la Standard."
   ]
  },
  {
   "cell_type": "code",
   "execution_count": null,
   "metadata": {
    "id": "8CeKTJm9qj0Y"
   },
   "outputs": [],
   "source": [
    "print('FIXME')\n"
   ]
  },
  {
   "cell_type": "markdown",
   "metadata": {
    "id": "Oz53kImcp894"
   },
   "source": [
    "Notre jeu de données étant normalisé, nous sommes prêts à tenter de définir des regroupements. Quelques explications sur les paramètres\n",
    " \n",
    "\n",
    "*   init : spécifie une technique d'initilisation des centroides\n",
    "*   n_clusters : spécifie le nombre de clusters attendu\n",
    "*   n_init : nombre de scénarios de départ à réaliser pour ensuite renvoyer le k-means possédant la plus petite erreur SSE\n",
    "*   max_iter : nombre maximum d'itérations\n",
    "\n"
   ]
  },
  {
   "cell_type": "code",
   "execution_count": null,
   "metadata": {
    "id": "yTGAXMXYqvyd"
   },
   "outputs": [],
   "source": [
    "kmeans = KMeans(\n",
    "    init=\"random\",\n",
    "    n_clusters=3,\n",
    "    n_init=10,\n",
    "    max_iter=300,\n",
    "    random_state=42\n",
    ")"
   ]
  },
  {
   "cell_type": "markdown",
   "metadata": {
    "id": "rICmH1tvrh1F"
   },
   "source": [
    "Le modèle est prêt à être appliqué à notre jeu de données normalisé"
   ]
  },
  {
   "cell_type": "code",
   "execution_count": null,
   "metadata": {
    "colab": {
     "base_uri": "https://localhost:8080/"
    },
    "id": "PYvp1MU1rlyv",
    "outputId": "70863570-31af-4181-e1a0-1119d845592b"
   },
   "outputs": [],
   "source": [
    "kmeans.fit(scaled_features)"
   ]
  },
  {
   "cell_type": "markdown",
   "metadata": {
    "id": "CYkJnbAQrpaZ"
   },
   "source": [
    "Une fois le traitement terminé via l'appel de la méthode `fit`, `kmeans`  possède de nouveaux attributs\n",
    "* `inertia_` : donne l'erreur\n",
    "* `cluster_centers_`\n",
    "* `n_iter_`\n",
    "* `labels_`\n",
    "\n",
    "\n",
    "Afficher chacun de ces paramètres et donner le type de `labels_`"
   ]
  },
  {
   "cell_type": "code",
   "execution_count": null,
   "metadata": {
    "id": "rmiwW4kdr6u2"
   },
   "outputs": [],
   "source": [
    "print('FIXME')"
   ]
  },
  {
   "cell_type": "markdown",
   "metadata": {
    "id": "HqilzoQJr7_8"
   },
   "source": [
    "Plutôt que de spécifier le nombre de clusters en dur, il est possible de trouver le nombre optimal de clusters. Il existe 2 principales méthodes.\n",
    "\n",
    "\n",
    "1.   elbow method (point d'inflexion)\n",
    "2.   silhouette coefficient\n",
    "\n"
   ]
  },
  {
   "cell_type": "code",
   "execution_count": null,
   "metadata": {
    "id": "4QEJjWKhs34i"
   },
   "outputs": [],
   "source": [
    "kmeans_kwargs = {\n",
    "    \"init\": \"random\",\n",
    "    \"n_init\": 10,\n",
    "    \"max_iter\": 300,\n",
    "    \"random_state\": 42,\n",
    "}\n",
    "\n",
    "# A list holds the SSE values for each k\n",
    "sse = []\n",
    "for k in range(1, 11):\n",
    "    kmeans = KMeans(n_clusters=k, **kmeans_kwargs)\n",
    "    kmeans.fit(scaled_features)\n",
    "    sse.append(kmeans.inertia_)"
   ]
  },
  {
   "cell_type": "markdown",
   "metadata": {
    "id": "IIjUOgCxtJPa"
   },
   "source": [
    "Pour visualiser le point d'inflexion avant de tenter de le trouver programmatiquement, voici le code pour afficher le graphique de l'évolution du SSE en fonction du nombre de clusters."
   ]
  },
  {
   "cell_type": "code",
   "execution_count": null,
   "metadata": {
    "colab": {
     "base_uri": "https://localhost:8080/",
     "height": 304
    },
    "id": "xMWDIcMFtTVe",
    "outputId": "02b83c53-5d30-43e9-fe82-20704fad323a"
   },
   "outputs": [],
   "source": [
    " plt.style.use(\"fivethirtyeight\")\n",
    " plt.plot(range(1, 11), sse)\n",
    " plt.xticks(range(1, 11))\n",
    " plt.xlabel(\"Number of Clusters\")\n",
    " plt.ylabel(\"SSE\")\n",
    " plt.show()"
   ]
  },
  {
   "cell_type": "markdown",
   "metadata": {
    "id": "z3NEHxN4tXHA"
   },
   "source": [
    "Pour trouver le point d'inflexion programmatiquement, il faut utiliser le module KneeLocator"
   ]
  },
  {
   "cell_type": "code",
   "execution_count": null,
   "metadata": {
    "colab": {
     "base_uri": "https://localhost:8080/"
    },
    "id": "704b6bj_tc1q",
    "outputId": "0735445f-c35f-46cc-8f42-a54fe3145216"
   },
   "outputs": [],
   "source": [
    "kl = KneeLocator(\n",
    "    range(1, 11), sse, curve=\"convex\", direction=\"decreasing\"\n",
    ")\n",
    "\n",
    "kl.elbow"
   ]
  },
  {
   "cell_type": "markdown",
   "metadata": {
    "id": "zBQ1S5Jdtk6q"
   },
   "source": [
    "Pour terminer, affichons les points et les centroides."
   ]
  },
  {
   "cell_type": "code",
   "execution_count": null,
   "metadata": {
    "colab": {
     "base_uri": "https://localhost:8080/",
     "height": 282
    },
    "id": "foOo73RRvbjG",
    "outputId": "0577a79d-4ec6-4712-b89a-25a1a9f40611"
   },
   "outputs": [],
   "source": [
    "print('FIXME')"
   ]
  }
 ],
 "metadata": {
  "colab": {
   "authorship_tag": "ABX9TyPWyjv7SFrZCUUYXWNDBAbn",
   "include_colab_link": true,
   "name": "K-Means-Cluster.ipynb",
   "provenance": []
  },
  "kernelspec": {
   "display_name": "Python 3 (ipykernel)",
   "language": "python",
   "name": "python3"
  },
  "language_info": {
   "codemirror_mode": {
    "name": "ipython",
    "version": 3
   },
   "file_extension": ".py",
   "mimetype": "text/x-python",
   "name": "python",
   "nbconvert_exporter": "python",
   "pygments_lexer": "ipython3",
   "version": "3.11.5"
  }
 },
 "nbformat": 4,
 "nbformat_minor": 1
}
